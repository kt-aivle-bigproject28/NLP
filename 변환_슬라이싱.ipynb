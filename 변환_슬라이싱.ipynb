{
 "cells": [
  {
   "cell_type": "code",
   "execution_count": 39,
   "id": "4ab0708f-3ded-4068-b65a-68fe5a32c8a3",
   "metadata": {},
   "outputs": [
    {
     "name": "stdout",
     "output_type": "stream",
     "text": [
      "청크가 저장되었습니다: C:\\Users\\User\\Desktop\\해리 포터와 마법사의 돌 Harry Potter and the Philosophers Stone (J.K. Rowling) (Z-Library)_변환.txt\n"
     ]
    }
   ],
   "source": [
    "def silce_text(input_file_path, output_file_path, slice_num=20000, chunk_size=500):\n",
    "    import re\n",
    "    \n",
    "    # 텍스트 파일 읽기\n",
    "    with open(input_file_path, 'r', encoding='utf-8') as f:\n",
    "        input_txt = f.read()\n",
    "\n",
    "    # 줄바꿈 제거 및 텍스트 자르기\n",
    "    input_txt = input_txt.replace('\\n', ' ')\n",
    "    input_txt = input_txt[:slice_num + 1]\n",
    "\n",
    "    # 문장 끝 패턴 정의 및 분리\n",
    "    sentence_end_pattern = re.compile(r'([.!?][\"”]?\\s)')\n",
    "    sentences = sentence_end_pattern.split(input_txt)\n",
    "\n",
    "    # 문장을 500 이하로 나누기\n",
    "    chunks = []\n",
    "    current_chunk = \"\"\n",
    "\n",
    "    for i in range(0, len(sentences) - 1, 2):\n",
    "        sentence = sentences[i] + sentences[i + 1]\n",
    "        if len(current_chunk) + len(sentence) > chunk_size:\n",
    "            chunks.append(current_chunk.strip())\n",
    "            current_chunk = sentence\n",
    "        else:\n",
    "            current_chunk += sentence\n",
    "\n",
    "    if current_chunk:\n",
    "        chunks.append(current_chunk.strip())\n",
    "\n",
    "    # 결과를 텍스트 파일로 저장\n",
    "    with open(output_file_path, 'w', encoding='utf-8') as f:\n",
    "        for chunk in chunks:\n",
    "            f.write(chunk + '\\n\\n')  # 각 청크를 두 줄 공백으로 구분하여 저장\n",
    "\n",
    "    print(f\"청크가 저장되었습니다: {output_file_path}\")\n",
    "\n",
    "\n",
    "# 사용 예시\n",
    "file_name = '해리 포터와 마법사의 돌 Harry Potter and the Philosophers Stone (J.K. Rowling) (Z-Library)'\n",
    "input_path = f\"C:\\\\Users\\\\User\\\\Desktop\\\\{file_name}_원문.txt\"\n",
    "output_path = f\"C:\\\\Users\\\\User\\\\Desktop\\\\{file_name}_변환.txt\"\n",
    "\n",
    "silce_text(input_path, output_path)\n"
   ]
  },
  {
   "cell_type": "code",
   "execution_count": null,
   "id": "1d38643b-c23d-4b66-8d77-e810cfb2acd9",
   "metadata": {},
   "outputs": [],
   "source": []
  }
 ],
 "metadata": {
  "kernelspec": {
   "display_name": "Python 3 (ipykernel)",
   "language": "python",
   "name": "python3"
  },
  "language_info": {
   "codemirror_mode": {
    "name": "ipython",
    "version": 3
   },
   "file_extension": ".py",
   "mimetype": "text/x-python",
   "name": "python",
   "nbconvert_exporter": "python",
   "pygments_lexer": "ipython3",
   "version": "3.12.4"
  }
 },
 "nbformat": 4,
 "nbformat_minor": 5
}
