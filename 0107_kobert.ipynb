{
 "cells": [
  {
   "cell_type": "code",
   "execution_count": 1,
   "id": "3a5acc55-318b-4cdf-9981-0bc585dc9cff",
   "metadata": {
    "collapsed": true,
    "jupyter": {
     "outputs_hidden": true
    }
   },
   "outputs": [
    {
     "name": "stdout",
     "output_type": "stream",
     "text": [
      "Requirement already satisfied: googletrans in c:\\users\\user\\anaconda3\\lib\\site-packages (4.0.0rc1)\n",
      "Requirement already satisfied: httpx==0.13.3 in c:\\users\\user\\anaconda3\\lib\\site-packages (from googletrans) (0.13.3)\n",
      "Requirement already satisfied: certifi in c:\\users\\user\\anaconda3\\lib\\site-packages (from httpx==0.13.3->googletrans) (2024.7.4)\n",
      "Requirement already satisfied: hstspreload in c:\\users\\user\\anaconda3\\lib\\site-packages (from httpx==0.13.3->googletrans) (2025.1.1)\n",
      "Requirement already satisfied: sniffio in c:\\users\\user\\anaconda3\\lib\\site-packages (from httpx==0.13.3->googletrans) (1.3.0)\n",
      "Requirement already satisfied: chardet==3.* in c:\\users\\user\\anaconda3\\lib\\site-packages (from httpx==0.13.3->googletrans) (3.0.4)\n",
      "Requirement already satisfied: idna==2.* in c:\\users\\user\\anaconda3\\lib\\site-packages (from httpx==0.13.3->googletrans) (2.10)\n",
      "Requirement already satisfied: rfc3986<2,>=1.3 in c:\\users\\user\\anaconda3\\lib\\site-packages (from httpx==0.13.3->googletrans) (1.5.0)\n",
      "Requirement already satisfied: httpcore==0.9.* in c:\\users\\user\\anaconda3\\lib\\site-packages (from httpx==0.13.3->googletrans) (0.9.1)\n",
      "Requirement already satisfied: h11<0.10,>=0.8 in c:\\users\\user\\anaconda3\\lib\\site-packages (from httpcore==0.9.*->httpx==0.13.3->googletrans) (0.9.0)\n",
      "Requirement already satisfied: h2==3.* in c:\\users\\user\\anaconda3\\lib\\site-packages (from httpcore==0.9.*->httpx==0.13.3->googletrans) (3.2.0)\n",
      "Requirement already satisfied: hyperframe<6,>=5.2.0 in c:\\users\\user\\anaconda3\\lib\\site-packages (from h2==3.*->httpcore==0.9.*->httpx==0.13.3->googletrans) (5.2.0)\n",
      "Requirement already satisfied: hpack<4,>=3.0 in c:\\users\\user\\anaconda3\\lib\\site-packages (from h2==3.*->httpcore==0.9.*->httpx==0.13.3->googletrans) (3.0.0)\n"
     ]
    }
   ],
   "source": [
    "!pip install googletrans"
   ]
  },
  {
   "cell_type": "markdown",
   "id": "b1bffe23-a5b0-4b81-b215-204cfaaa197c",
   "metadata": {},
   "source": [
    "# 요약모델"
   ]
  },
  {
   "cell_type": "markdown",
   "id": "2a98d598-dda3-4515-aad1-ed94f91d832b",
   "metadata": {},
   "source": [
    "# 책을 시나리오로 바꾸는 형태 Model : T5"
   ]
  },
  {
   "cell_type": "code",
   "execution_count": null,
   "id": "5a6f9852-51cd-4d02-b614-1c9504c3c565",
   "metadata": {},
   "outputs": [],
   "source": [
    "!pip install torch\n",
    "!pip install transformers kobert-transformers\n",
    "!pip install numpy scikit-learn\n"
   ]
  },
  {
   "cell_type": "code",
   "execution_count": 49,
   "id": "bc089917-341c-4ffc-8751-a93d546012c0",
   "metadata": {},
   "outputs": [
    {
     "name": "stdout",
     "output_type": "stream",
     "text": [
      "시나리오 형태 요약:\n",
      "Scene 1: 멈춰선 소년은 후들거리는 다리를 붙들고 짜증스러운 표정으로 그들을 노려보았다.\n",
      "Scene 2: 복면인들의 말에 천 공자라 불린 소년은 어이가 없다는 표정을 지었다.\n",
      "Scene 3: 살기를 머금은 그들의 눈빛은 소년의 목과 심장을 향하고 있었다.\n",
      "Scene 4: 천한 피라는 말에 소년의 눈에 살의가 치솟았다.\n",
      "Scene 5: 하지만 이미 소년의 단검을 쥐고 있는 자세만 보더라도 어설프기 짝이 없었다.\n",
      "Scene 6: 일그러진 얼굴에 그의 단검을 떨어뜨리게 만든 복면인의 눈이 히죽거리더니, 재빠른 손놀림으로 소년의 목을 움켜쥐었다.\n",
      "Scene 7: 완전히 제압했다고 방심했던 복면인의 턱으로 단검이 파고들어왔다.\n",
      "Scene 8: 그가 잘못 본 것이 아니라면 웬 하얀 빛줄기가 날아와서 복면인을 맞췄는데, 상반신이 녹아내리듯이 사라져버린 것이었다.\n",
      "Scene 9: 복면인 대주가 남은 복면인에게 퇴각 신호를 보내려는 순간 그의 상반신이 흰 빛줄기에 맞고 사라져버렸다.\n",
      "Scene 10: 죽어가는 소년의 몸에 변화가 일어났다.\n"
     ]
    }
   ],
   "source": [
    "import torch\n",
    "from transformers import BertTokenizer, BertModel\n",
    "import numpy as np\n",
    "from sklearn.metrics.pairwise import cosine_similarity\n",
    "from transformers import AutoModel, AutoTokenizer\n",
    "\n",
    "model = AutoModel.from_pretrained(\"monologg/kobert\")\n",
    "tokenizer = AutoTokenizer.from_pretrained(\"monologg/kobert\", trust_remote_code=True)\n",
    "def read_txt_file(file_path):\n",
    "    with open(file_path, \"r\", encoding=\"utf-8\") as file:\n",
    "        return file.read()\n",
    "\n",
    "def encode_sentences(sentences):\n",
    "    embeddings = []\n",
    "    for sentence in sentences:\n",
    "        # 문장 토큰화 및 인코딩\n",
    "        inputs = tokenizer(sentence, return_tensors=\"pt\", padding=True, truncation=True, max_length=512)\n",
    "        outputs = model(**inputs)\n",
    "        # [CLS] 토큰의 임베딩 사용\n",
    "        embeddings.append(outputs.last_hidden_state[:, 0, :].detach().numpy())\n",
    "    return np.vstack(embeddings)\n",
    "\n",
    "def summarize_text(text, top_n=3):\n",
    "    # 문장 분리 (여기선 간단히 줄바꿈으로 구분)\n",
    "    sentences = [s.strip() for s in text.split('\\n') if s.strip()]\n",
    "    \n",
    "    # 문장 임베딩 생성\n",
    "    embeddings = encode_sentences(sentences)\n",
    "    \n",
    "    # 임베딩 간 유사도 계산\n",
    "    sentence_scores = np.mean(cosine_similarity(embeddings), axis=1)\n",
    "    \n",
    "    # 상위 점수의 문장 선택\n",
    "    top_indices = np.argsort(sentence_scores)[-top_n:]\n",
    "    top_sentences = [sentences[i] for i in sorted(top_indices)]\n",
    "    \n",
    "    # 시나리오 형식으로 반환\n",
    "    return \"\\n\".join(f\"Scene {i+1}: {s}\" for i, s in enumerate(top_sentences))\n",
    "\n",
    "# 텍스트 파일 경로\n",
    "file_path = \"C:/Users/User/Desktop/나노마신.txt\"\n",
    "\n",
    "# 텍스트 읽기\n",
    "original_text = read_txt_file(file_path)\n",
    "\n",
    "# 요약하기\n",
    "scenario_summary = summarize_text(original_text, top_n=10)\n",
    "\n",
    "# 요약 결과 출력\n",
    "print(\"시나리오 형태 요약:\")\n",
    "print(scenario_summary)\n"
   ]
  },
  {
   "cell_type": "code",
   "execution_count": null,
   "id": "493a378e-c294-4ca9-9b8c-0fcb343724f8",
   "metadata": {},
   "outputs": [],
   "source": []
  }
 ],
 "metadata": {
  "kernelspec": {
   "display_name": "Python 3 (ipykernel)",
   "language": "python",
   "name": "python3"
  },
  "language_info": {
   "codemirror_mode": {
    "name": "ipython",
    "version": 3
   },
   "file_extension": ".py",
   "mimetype": "text/x-python",
   "name": "python",
   "nbconvert_exporter": "python",
   "pygments_lexer": "ipython3",
   "version": "3.12.4"
  }
 },
 "nbformat": 4,
 "nbformat_minor": 5
}
