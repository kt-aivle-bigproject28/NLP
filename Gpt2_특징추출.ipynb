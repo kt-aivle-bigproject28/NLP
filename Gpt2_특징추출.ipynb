{
  "nbformat": 4,
  "nbformat_minor": 0,
  "metadata": {
    "colab": {
      "provenance": [],
      "machine_shape": "hm",
      "gpuType": "L4"
    },
    "kernelspec": {
      "name": "python3",
      "display_name": "Python 3"
    },
    "language_info": {
      "name": "python"
    },
    "accelerator": "GPU"
  },
  "cells": [
    {
      "cell_type": "code",
      "source": [
        "!pip install openai"
      ],
      "metadata": {
        "colab": {
          "base_uri": "https://localhost:8080/"
        },
        "id": "2GlJCoUtZnhc",
        "outputId": "958489ba-88c9-4717-fe01-c71fa7719e02"
      },
      "execution_count": null,
      "outputs": [
        {
          "output_type": "stream",
          "name": "stdout",
          "text": [
            "Requirement already satisfied: openai in /usr/local/lib/python3.11/dist-packages (1.59.6)\n",
            "Requirement already satisfied: anyio<5,>=3.5.0 in /usr/local/lib/python3.11/dist-packages (from openai) (3.7.1)\n",
            "Requirement already satisfied: distro<2,>=1.7.0 in /usr/local/lib/python3.11/dist-packages (from openai) (1.9.0)\n",
            "Requirement already satisfied: httpx<1,>=0.23.0 in /usr/local/lib/python3.11/dist-packages (from openai) (0.28.1)\n",
            "Requirement already satisfied: jiter<1,>=0.4.0 in /usr/local/lib/python3.11/dist-packages (from openai) (0.8.2)\n",
            "Requirement already satisfied: pydantic<3,>=1.9.0 in /usr/local/lib/python3.11/dist-packages (from openai) (2.10.5)\n",
            "Requirement already satisfied: sniffio in /usr/local/lib/python3.11/dist-packages (from openai) (1.3.1)\n",
            "Requirement already satisfied: tqdm>4 in /usr/local/lib/python3.11/dist-packages (from openai) (4.67.1)\n",
            "Requirement already satisfied: typing-extensions<5,>=4.11 in /usr/local/lib/python3.11/dist-packages (from openai) (4.12.2)\n",
            "Requirement already satisfied: idna>=2.8 in /usr/local/lib/python3.11/dist-packages (from anyio<5,>=3.5.0->openai) (3.10)\n",
            "Requirement already satisfied: certifi in /usr/local/lib/python3.11/dist-packages (from httpx<1,>=0.23.0->openai) (2024.12.14)\n",
            "Requirement already satisfied: httpcore==1.* in /usr/local/lib/python3.11/dist-packages (from httpx<1,>=0.23.0->openai) (1.0.7)\n",
            "Requirement already satisfied: h11<0.15,>=0.13 in /usr/local/lib/python3.11/dist-packages (from httpcore==1.*->httpx<1,>=0.23.0->openai) (0.14.0)\n",
            "Requirement already satisfied: annotated-types>=0.6.0 in /usr/local/lib/python3.11/dist-packages (from pydantic<3,>=1.9.0->openai) (0.7.0)\n",
            "Requirement already satisfied: pydantic-core==2.27.2 in /usr/local/lib/python3.11/dist-packages (from pydantic<3,>=1.9.0->openai) (2.27.2)\n"
          ]
        }
      ]
    },
    {
      "cell_type": "code",
      "source": [
        "!pip install openai==0.28"
      ],
      "metadata": {
        "colab": {
          "base_uri": "https://localhost:8080/",
          "height": 581
        },
        "id": "M1ISjx48Z19v",
        "outputId": "fa1144c3-d2ab-4961-a5ae-022daf5073e2"
      },
      "execution_count": null,
      "outputs": [
        {
          "output_type": "stream",
          "name": "stdout",
          "text": [
            "Collecting openai==0.28\n",
            "  Downloading openai-0.28.0-py3-none-any.whl.metadata (13 kB)\n",
            "Requirement already satisfied: requests>=2.20 in /usr/local/lib/python3.11/dist-packages (from openai==0.28) (2.32.3)\n",
            "Requirement already satisfied: tqdm in /usr/local/lib/python3.11/dist-packages (from openai==0.28) (4.67.1)\n",
            "Requirement already satisfied: aiohttp in /usr/local/lib/python3.11/dist-packages (from openai==0.28) (3.11.11)\n",
            "Requirement already satisfied: charset-normalizer<4,>=2 in /usr/local/lib/python3.11/dist-packages (from requests>=2.20->openai==0.28) (3.4.1)\n",
            "Requirement already satisfied: idna<4,>=2.5 in /usr/local/lib/python3.11/dist-packages (from requests>=2.20->openai==0.28) (3.10)\n",
            "Requirement already satisfied: urllib3<3,>=1.21.1 in /usr/local/lib/python3.11/dist-packages (from requests>=2.20->openai==0.28) (2.3.0)\n",
            "Requirement already satisfied: certifi>=2017.4.17 in /usr/local/lib/python3.11/dist-packages (from requests>=2.20->openai==0.28) (2024.12.14)\n",
            "Requirement already satisfied: aiohappyeyeballs>=2.3.0 in /usr/local/lib/python3.11/dist-packages (from aiohttp->openai==0.28) (2.4.4)\n",
            "Requirement already satisfied: aiosignal>=1.1.2 in /usr/local/lib/python3.11/dist-packages (from aiohttp->openai==0.28) (1.3.2)\n",
            "Requirement already satisfied: attrs>=17.3.0 in /usr/local/lib/python3.11/dist-packages (from aiohttp->openai==0.28) (24.3.0)\n",
            "Requirement already satisfied: frozenlist>=1.1.1 in /usr/local/lib/python3.11/dist-packages (from aiohttp->openai==0.28) (1.5.0)\n",
            "Requirement already satisfied: multidict<7.0,>=4.5 in /usr/local/lib/python3.11/dist-packages (from aiohttp->openai==0.28) (6.1.0)\n",
            "Requirement already satisfied: propcache>=0.2.0 in /usr/local/lib/python3.11/dist-packages (from aiohttp->openai==0.28) (0.2.1)\n",
            "Requirement already satisfied: yarl<2.0,>=1.17.0 in /usr/local/lib/python3.11/dist-packages (from aiohttp->openai==0.28) (1.18.3)\n",
            "Downloading openai-0.28.0-py3-none-any.whl (76 kB)\n",
            "\u001b[?25l   \u001b[90m━━━━━━━━━━━━━━━━━━━━━━━━━━━━━━━━━━━━━━━━\u001b[0m \u001b[32m0.0/76.5 kB\u001b[0m \u001b[31m?\u001b[0m eta \u001b[36m-:--:--\u001b[0m\r\u001b[2K   \u001b[90m━━━━━━━━━━━━━━━━━━━━━━━━━━━━━━━━━━━━━━━━\u001b[0m \u001b[32m76.5/76.5 kB\u001b[0m \u001b[31m6.5 MB/s\u001b[0m eta \u001b[36m0:00:00\u001b[0m\n",
            "\u001b[?25hInstalling collected packages: openai\n",
            "  Attempting uninstall: openai\n",
            "    Found existing installation: openai 1.59.6\n",
            "    Uninstalling openai-1.59.6:\n",
            "      Successfully uninstalled openai-1.59.6\n",
            "Successfully installed openai-0.28.0\n"
          ]
        },
        {
          "output_type": "display_data",
          "data": {
            "application/vnd.colab-display-data+json": {
              "pip_warning": {
                "packages": [
                  "openai"
                ]
              },
              "id": "7b5921b7d6ad4d92866e5ecc6a681a56"
            }
          },
          "metadata": {}
        }
      ]
    },
    {
      "cell_type": "markdown",
      "source": [
        "### 유로 GTP 3.5 turbo\n"
      ],
      "metadata": {
        "id": "1drzlkaDYGQn"
      }
    },
    {
      "cell_type": "code",
      "source": [
        "# import openai\n",
        "# import os\n",
        "# import requests\n",
        "# import xml.etree.ElementTree as ET\n",
        "# import pandas as pd\n",
        "# import matplotlib.pyplot as plt\n",
        "# import openai\n",
        "# import json\n",
        "\n",
        "# # 파일에서 OpenAI API 키 읽기\n",
        "# with open(\"/content/open_api_key.txt\", \"r\") as file:\n",
        "#     openai.api_key = file.read().strip()\n",
        "\n",
        "# def extract_appearance_features(input_text):\n",
        "#     \"\"\"\n",
        "#     GPT-3.5 Turbo를 사용하여 텍스트에서 외모적 특징과 시대적 배경을 추출하는 함수.\n",
        "\n",
        "#     Parameters:\n",
        "#         input_text (str): 처리할 텍스트.\n",
        "\n",
        "#     Returns:\n",
        "#         str: 시대적 배경과 등장인물의 외모적 특징.\n",
        "#     \"\"\"\n",
        "#     # GPT-3.5 Turbo에 보낼 프롬프트 구성\n",
        "#     prompt = f\"\"\"\n",
        "#     아래 텍스트에서 시대적 배경과 등장인물의 외모적 특징을 추출하세요.\n",
        "#     시대적 배경은 등장인물들의 대화와 묘사에서 유추하고, 각 인물의 외모적 특징은 다음 형식으로 반환하세요:\n",
        "\n",
        "#     [시대적 배경] (시대적 배경 정보)\n",
        "#     [이름] 성별, 머리 길이, 눈동자 색, 나이대(어린아이, 청소년, 성인, 노인), 체격, 기타 특징.\n",
        "\n",
        "#     텍스트:\n",
        "#     {input_text}\n",
        "\n",
        "#     출력 예시:\n",
        "#     [시대적 배경] 19세기 조선\n",
        "#     [홍길동] 남성, 짧은 머리, 검은 눈동자, 청년, 근육질 체격, 날카로운 인상\n",
        "#     [이몽룡] 남성, 긴 머리, 갈색 눈동자, 청년, 날씬한 체격, 단정한 외모\n",
        "#     \"\"\"\n",
        "\n",
        "#     try:\n",
        "#         # OpenAI API 호출\n",
        "#         response = openai.ChatCompletion.create(\n",
        "#             model=\"gpt-4-turbo\",\n",
        "#             messages=[\n",
        "#                 {\"role\": \"system\", \"content\": \"You are a helpful assistant.\"},\n",
        "#                 {\"role\": \"user\", \"content\": prompt}\n",
        "#             ],\n",
        "#             max_tokens=1000,\n",
        "#             temperature=0.5\n",
        "#         )\n",
        "#         # API 응답에서 텍스트 추출\n",
        "#         output = response['choices'][0]['message']['content']\n",
        "#         return output\n",
        "#     except Exception as e:\n",
        "#         print(f\"Error: {e}\")\n",
        "#         return None\n",
        "\n",
        "# # 입력 텍스트\n",
        "# input_text = \"\"\"\n",
        "\n",
        "# \"\"\"\n",
        "\n",
        "# # 외모 특징 및 시대적 배경 추출\n",
        "# result = extract_appearance_features(input_text)\n",
        "\n",
        "# # 결과 출력\n",
        "# print(\"추출된 외모 특징 및 시대적 배경:\")\n",
        "# print(result)\n"
      ],
      "metadata": {
        "colab": {
          "base_uri": "https://localhost:8080/"
        },
        "id": "SwBQBj9XYMDy",
        "outputId": "19389351-bc11-470d-e715-f248450e7230"
      },
      "execution_count": null,
      "outputs": [
        {
          "output_type": "stream",
          "name": "stdout",
          "text": [
            "추출된 외모 특징 및 시대적 배경:\n",
            "[시대적 배경] 마법 세계  \n",
            "[그] 남성, 긴 은빛 머리카락, 푸른 눈, 노인, 키가 크고 마른 체격, 긴 턱수염과 긴 로브 착용  \n",
            "[대신 덤블도어] 여성, 검은 머리 올린 머리카락, 에메랄드색 안경, 청소년, 미소가 있는 외모, 덤블도어와 비슷한 망토 착용\n"
          ]
        }
      ]
    },
    {
      "cell_type": "markdown",
      "source": [
        "# 2만자 .txt에 대한 시대적 배경과 모든 등장인물의 외모적 특징"
      ],
      "metadata": {
        "id": "lJE5obPQZUsX"
      }
    },
    {
      "cell_type": "code",
      "source": [
        "# import openai\n",
        "# from difflib import SequenceMatcher\n",
        "\n",
        "# # OpenAI API 키 읽기\n",
        "# with open(\"/content/open_api_key.txt\", \"r\") as file:\n",
        "#     openai.api_key = file.read().strip()\n",
        "\n",
        "# def split_text_into_chunks(text, chunk_size=1000):\n",
        "#     \"\"\"\n",
        "#     텍스트를 일정한 크기(chunk_size)로 분할하는 함수.\n",
        "#     \"\"\"\n",
        "#     for i in range(0, len(text), chunk_size):\n",
        "#         yield text[i:i + chunk_size]\n",
        "\n",
        "# def call_gpt_to_extract_features(chunk):\n",
        "#     \"\"\"\n",
        "#     GPT-4 Turbo를 사용하여 텍스트 조각에서 외모적 특징과 시대적 배경을 추출.\n",
        "#     \"\"\"\n",
        "#     prompt = f\"\"\"\n",
        "#     아래 텍스트에서 시대적 배경과 등장인물의 외모적 특징을 추출하세요.\n",
        "#     - 시대적 배경은 등장인물들의 대화와 묘사에서 유추하며, 주요 사건, 환경, 사회적 맥락 등을 포함하여 상세히 기술하세요.\n",
        "#     - 등장인물의 외모적 특징은 성별, 머리 길이, 눈동자 색, 나이대(어린아이, 청소년, 성인, 노인), 체격, 기타 특징을 포함합니다.\n",
        "#     - 특정 정보가 명시적으로 없을 경우, 문맥을 기반으로 최대한 합리적으로 추론하거나 해당 정보를 생략하세요.\n",
        "#     - 중복된 정보는 반환하지 마세요.\n",
        "\n",
        "#     텍스트:\n",
        "#     {chunk}\n",
        "\n",
        "#     출력 형식:\n",
        "#     [시대적 배경] (시대적 배경 정보)\n",
        "#     [이름] 성별, 머리 길이, 눈동자 색, 나이대(어린아이, 청소년, 성인, 노인), 체격, 기타 특징\n",
        "#     \"\"\"\n",
        "#     try:\n",
        "#         response = openai.ChatCompletion.create(\n",
        "#             model=\"gpt-4-turbo\",\n",
        "#             messages=[\n",
        "#                 {\"role\": \"system\", \"content\": \"You are a helpful assistant.\"},\n",
        "#                 {\"role\": \"user\", \"content\": prompt}\n",
        "#             ],\n",
        "#             max_tokens=2000,\n",
        "#             temperature=0.5\n",
        "#         )\n",
        "#         return response['choices'][0]['message']['content']\n",
        "#     except Exception as e:\n",
        "#         print(f\"Error during GPT call: {e}\")\n",
        "#         return None\n",
        "\n",
        "# def remove_duplicates(results):\n",
        "#     \"\"\"\n",
        "#     중복된 특징을 제거하는 함수.\n",
        "#     \"\"\"\n",
        "#     unique_results = []\n",
        "#     for result in results:\n",
        "#         if not any(SequenceMatcher(None, result, existing).ratio() > 0.9 for existing in unique_results):\n",
        "#             unique_results.append(result)\n",
        "#     return unique_results\n",
        "\n",
        "# # 파일 경로 지정\n",
        "# file_path = \"/content/화산귀환 (비가) (Z-Library).txt\"\n",
        "\n",
        "# # 파일 읽기\n",
        "# with open(file_path, \"r\", encoding=\"utf-8\") as f:\n",
        "#     text = f.read()\n",
        "\n",
        "# # 텍스트를 1000자 단위로 분할\n",
        "# chunks = list(split_text_into_chunks(text, chunk_size=1000))\n",
        "\n",
        "# # 각 조각에 대해 GPT 호출\n",
        "# all_results = []\n",
        "# for chunk in chunks:\n",
        "#     result = call_gpt_to_extract_features(chunk)\n",
        "#     if result:\n",
        "#         all_results.append(result)\n",
        "\n",
        "# # 중복 제거\n",
        "# unique_results = remove_duplicates(all_results)\n",
        "\n",
        "# # 결과 출력\n",
        "# print(\"추출된 외모 특징 및 시대적 배경:\")\n",
        "# for result in unique_results:\n",
        "#     print(result)\n"
      ],
      "metadata": {
        "id": "kKO5vphUyAcV"
      },
      "execution_count": null,
      "outputs": []
    },
    {
      "cell_type": "code",
      "source": [
        "!pip install openai==0.28"
      ],
      "metadata": {
        "colab": {
          "base_uri": "https://localhost:8080/"
        },
        "id": "JSdMVssVq8QK",
        "outputId": "63007a93-d3ef-48d0-d9e0-14269b3f1af6"
      },
      "execution_count": 1,
      "outputs": [
        {
          "output_type": "stream",
          "name": "stdout",
          "text": [
            "Requirement already satisfied: openai==0.28 in /usr/local/lib/python3.11/dist-packages (0.28.0)\n",
            "Requirement already satisfied: requests>=2.20 in /usr/local/lib/python3.11/dist-packages (from openai==0.28) (2.32.3)\n",
            "Requirement already satisfied: tqdm in /usr/local/lib/python3.11/dist-packages (from openai==0.28) (4.67.1)\n",
            "Requirement already satisfied: aiohttp in /usr/local/lib/python3.11/dist-packages (from openai==0.28) (3.11.11)\n",
            "Requirement already satisfied: charset-normalizer<4,>=2 in /usr/local/lib/python3.11/dist-packages (from requests>=2.20->openai==0.28) (3.4.1)\n",
            "Requirement already satisfied: idna<4,>=2.5 in /usr/local/lib/python3.11/dist-packages (from requests>=2.20->openai==0.28) (3.10)\n",
            "Requirement already satisfied: urllib3<3,>=1.21.1 in /usr/local/lib/python3.11/dist-packages (from requests>=2.20->openai==0.28) (2.3.0)\n",
            "Requirement already satisfied: certifi>=2017.4.17 in /usr/local/lib/python3.11/dist-packages (from requests>=2.20->openai==0.28) (2024.12.14)\n",
            "Requirement already satisfied: aiohappyeyeballs>=2.3.0 in /usr/local/lib/python3.11/dist-packages (from aiohttp->openai==0.28) (2.4.4)\n",
            "Requirement already satisfied: aiosignal>=1.1.2 in /usr/local/lib/python3.11/dist-packages (from aiohttp->openai==0.28) (1.3.2)\n",
            "Requirement already satisfied: attrs>=17.3.0 in /usr/local/lib/python3.11/dist-packages (from aiohttp->openai==0.28) (24.3.0)\n",
            "Requirement already satisfied: frozenlist>=1.1.1 in /usr/local/lib/python3.11/dist-packages (from aiohttp->openai==0.28) (1.5.0)\n",
            "Requirement already satisfied: multidict<7.0,>=4.5 in /usr/local/lib/python3.11/dist-packages (from aiohttp->openai==0.28) (6.1.0)\n",
            "Requirement already satisfied: propcache>=0.2.0 in /usr/local/lib/python3.11/dist-packages (from aiohttp->openai==0.28) (0.2.1)\n",
            "Requirement already satisfied: yarl<2.0,>=1.17.0 in /usr/local/lib/python3.11/dist-packages (from aiohttp->openai==0.28) (1.18.3)\n"
          ]
        }
      ]
    },
    {
      "cell_type": "code",
      "source": [
        "!pip install openai==0.28\n",
        "import openai\n",
        "import os\n",
        "import requests\n",
        "import xml.etree.ElementTree as ET\n",
        "import pandas as pd\n",
        "import matplotlib.pyplot as plt\n",
        "import openai\n",
        "import json\n",
        "\n",
        "# OpenAI API 키 읽기\n",
        "with open(\"/content/open_api_key.txt\", \"r\") as file:\n",
        "    openai.api_key = file.read().strip()\n",
        "\n",
        "def call_gpt_to_extract_features(text):\n",
        "    \"\"\"\n",
        "    GPT-4 Turbo를 사용하여 전체 텍스트에서 외모적 특징과 시대적 배경을 추출.\n",
        "    \"\"\"\n",
        "    prompt = f\"\"\"\n",
        "    아래 텍스트에서 등장하는 시대적 배경과 모든 인물의 외모적 생김새 다음 조건에 맞게 추출하세요:\n",
        "    - 시대적 배경은 텍스트의 시간적, 공간적 환경을 간결히 서술하세요.\n",
        "    - 각 인물의 생김새을 [이름] 형식으로 간결히 표현하세요.\n",
        "    - 인물의 외모적 생김새에는 다음 요소만 포함하세요:\n",
        "      1. 성별 (남성/여성)\n",
        "      2. 머리 길이 (짧은 머리, 긴 머리 등)\n",
        "      3. 눈동자 색 (검은 눈동자, 푸른 눈동자 등)\n",
        "      4. 나이대 (어린아이, 청소년, 성인, 노인)\n",
        "      5. 체격 (마른 체격, 건장한 체격, 비만한 체격 등)\n",
        "    - 명시적으로 제공되지 않은 정보는 작성하지 마세요.\n",
        "    - 1인칭 시점의 화자는 \"나\" 또는 \"나레이터\"로 출력하지 마세요.\n",
        "    - 중복되지 않도록 작성하세요.\n",
        "\n",
        "    출력 형식:\n",
        "    [시대적 배경] (시대적 배경 정보)\n",
        "    [이름] 성별, 머리 길이, 눈동자 색, 나이대, 체격\n",
        "\n",
        "    예시 출력:\n",
        "    [시대적 배경] 1940년대~1960년대 미국, 메인 주의 쇼생크 주립교도소\n",
        "    [앤디 듀프레인] 남성, 조밀하며 잘 정돈된 헤어스타일, 성인, 보통 체격\n",
        "    [레드] 남성, 성인, 보통 체격\n",
        "    [보그 다이아몬드] 남성, 성인\n",
        "\n",
        "    중요!:\n",
        "    절대적으로 예시 출력 처럼 출력합니다\n",
        "\n",
        "\n",
        "\n",
        "    텍스트:\n",
        "    {text}\n",
        "\"\"\"\n",
        "\n",
        "    try:\n",
        "        response = openai.ChatCompletion.create(\n",
        "            model=\"gpt-4-turbo\",\n",
        "            messages=[\n",
        "                {\"role\": \"system\", \"content\": \"You are a helpful assistant.\"},\n",
        "                {\"role\": \"user\", \"content\": prompt}\n",
        "            ],\n",
        "            max_tokens=2000,\n",
        "            temperature=1\n",
        "        )\n",
        "        return response['choices'][0]['message']['content']\n",
        "    except Exception as e:\n",
        "        print(f\"Error during GPT call: {e}\")\n",
        "        return None\n",
        "\n",
        "\n",
        "def parse_gpt_result_to_json(result):\n",
        "    \"\"\"\n",
        "    GPT 모델 결과를 JSON 형태로 변환\n",
        "    \"\"\"\n",
        "    try:\n",
        "        # 텍스트를 라인별로 분리\n",
        "        lines = result.strip().split(\"\\n\")\n",
        "\n",
        "        # 시대적 배경 추출\n",
        "        background = None\n",
        "        characters = []\n",
        "\n",
        "        for line in lines:\n",
        "            if line.startswith(\"[시대적 배경]\"):\n",
        "                background = line.replace(\"[시대적 배경] \", \"\").strip()\n",
        "            elif line.startswith(\"[\") and \"]\" in line:\n",
        "                name, appearance = line.split(\"]\", 1)\n",
        "                characters.append({\n",
        "                    \"name\": name.replace(\"[\", \"\").strip(),\n",
        "                    \"appearance\": appearance.strip()\n",
        "                })\n",
        "\n",
        "        # 모든 캐릭터 포함한 JSON 반환\n",
        "        data = {\n",
        "            \"background\": background,\n",
        "            \"characters\": characters\n",
        "        }\n",
        "        return data\n",
        "\n",
        "    except Exception as e:\n",
        "        return {\"error\": f\"Failed to parse result: {e}\"}\n",
        "\n",
        "# 파일 경로 지정\n",
        "file_path = \"/content/쇼생크 탈출 (스티븐 킹) (Z-Library).txt\"\n",
        "\n",
        "# 파일 읽기\n",
        "with open(file_path, \"r\", encoding=\"utf-8\") as f:\n",
        "    text = f.read()\n",
        "\n",
        "# GPT 호출\n",
        "result = call_gpt_to_extract_features(text)\n",
        "\n",
        "if result:\n",
        "    # 원본 출력 확인\n",
        "    print(\"GPT 원본 출력:\")\n",
        "    print(result)\n",
        "\n",
        "    # JSON 변환\n",
        "    parsed_data = parse_gpt_result_to_json(result)\n",
        "\n",
        "    # 변환된 JSON 확인\n",
        "    print(\"최종 JSON 결과:\")\n",
        "    print(json.dumps(parsed_data, ensure_ascii=False, indent=4))\n",
        "else:\n",
        "    print(\"GPT로부터 결과를 얻는 데 실패했습니다.\")\n"
      ],
      "metadata": {
        "id": "irYKtBHt1VEI",
        "colab": {
          "base_uri": "https://localhost:8080/"
        },
        "outputId": "8d62918c-e227-498d-a48e-a9a74505138b"
      },
      "execution_count": 7,
      "outputs": [
        {
          "output_type": "stream",
          "name": "stdout",
          "text": [
            "Requirement already satisfied: openai==0.28 in /usr/local/lib/python3.11/dist-packages (0.28.0)\n",
            "Requirement already satisfied: requests>=2.20 in /usr/local/lib/python3.11/dist-packages (from openai==0.28) (2.32.3)\n",
            "Requirement already satisfied: tqdm in /usr/local/lib/python3.11/dist-packages (from openai==0.28) (4.67.1)\n",
            "Requirement already satisfied: aiohttp in /usr/local/lib/python3.11/dist-packages (from openai==0.28) (3.11.11)\n",
            "Requirement already satisfied: charset-normalizer<4,>=2 in /usr/local/lib/python3.11/dist-packages (from requests>=2.20->openai==0.28) (3.4.1)\n",
            "Requirement already satisfied: idna<4,>=2.5 in /usr/local/lib/python3.11/dist-packages (from requests>=2.20->openai==0.28) (3.10)\n",
            "Requirement already satisfied: urllib3<3,>=1.21.1 in /usr/local/lib/python3.11/dist-packages (from requests>=2.20->openai==0.28) (2.3.0)\n",
            "Requirement already satisfied: certifi>=2017.4.17 in /usr/local/lib/python3.11/dist-packages (from requests>=2.20->openai==0.28) (2024.12.14)\n",
            "Requirement already satisfied: aiohappyeyeballs>=2.3.0 in /usr/local/lib/python3.11/dist-packages (from aiohttp->openai==0.28) (2.4.4)\n",
            "Requirement already satisfied: aiosignal>=1.1.2 in /usr/local/lib/python3.11/dist-packages (from aiohttp->openai==0.28) (1.3.2)\n",
            "Requirement already satisfied: attrs>=17.3.0 in /usr/local/lib/python3.11/dist-packages (from aiohttp->openai==0.28) (24.3.0)\n",
            "Requirement already satisfied: frozenlist>=1.1.1 in /usr/local/lib/python3.11/dist-packages (from aiohttp->openai==0.28) (1.5.0)\n",
            "Requirement already satisfied: multidict<7.0,>=4.5 in /usr/local/lib/python3.11/dist-packages (from aiohttp->openai==0.28) (6.1.0)\n",
            "Requirement already satisfied: propcache>=0.2.0 in /usr/local/lib/python3.11/dist-packages (from aiohttp->openai==0.28) (0.2.1)\n",
            "Requirement already satisfied: yarl<2.0,>=1.17.0 in /usr/local/lib/python3.11/dist-packages (from aiohttp->openai==0.28) (1.18.3)\n",
            "GPT 원본 출력:\n",
            "[시대적 배경] 1940년대~1960년대 미국, 메인 주의 쇼생크 주립교도소\n",
            "\n",
            "[앤디 듀프레인] 남성, 모랫빛 머리카락, 성인, 깔끔한 체격\n",
            "최종 JSON 결과:\n",
            "{\n",
            "    \"background\": \"1940년대~1960년대 미국, 메인 주의 쇼생크 주립교도소\",\n",
            "    \"characters\": [\n",
            "        {\n",
            "            \"name\": \"앤디 듀프레인\",\n",
            "            \"appearance\": \"남성, 모랫빛 머리카락, 성인, 깔끔한 체격\"\n",
            "        }\n",
            "    ]\n",
            "}\n"
          ]
        }
      ]
    },
    {
      "cell_type": "code",
      "source": [
        "from google.colab import drive\n",
        "drive.mount('/content/drive')"
      ],
      "metadata": {
        "id": "e6ZjSkS2PAAB"
      },
      "execution_count": null,
      "outputs": []
    },
    {
      "cell_type": "code",
      "source": [
        "# 서식 변\n",
        "\n",
        "import json\n",
        "\n",
        "# 입력 데이터\n",
        "temp = \"\"\"\n",
        "[시대적 배경] 1940년대~1960년대 미국, 메인 주의 쇼생크 주립교도소\n",
        "\n",
        "[앤디 듀프레인] 남성, 조밀하며 잘 정돈된 헤어스타일, 성인, 보통 체격, 깨끗하고 관리된 외모\n",
        "\n",
        "[레드] 남성,성인, 보통 체격\n",
        "\n",
        "[보그 다이아몬드] 남성,성인\n",
        "\"\"\"\n",
        "\n",
        "# 텍스트를 JSON 형태로 변환\n",
        "def parse_result_to_json(result):\n",
        "    \"\"\"\n",
        "    입력된 텍스트를 JSON 형태로 변환\n",
        "    \"\"\"\n",
        "    try:\n",
        "        # 텍스트를 라인별로 분리\n",
        "        lines = result.strip().split(\"\\n\")\n",
        "\n",
        "        # 시대적 배경 추출\n",
        "        background = None\n",
        "        characters = []\n",
        "\n",
        "        for line in lines:\n",
        "            if line.startswith(\"[시대적 배경]\"):\n",
        "                background = line.replace(\"[시대적 배경] \", \"\").strip()\n",
        "            elif line.startswith(\"[\") and \"]\" in line:\n",
        "                name, appearance = line.split(\"]\", 1)\n",
        "                characters.append({\n",
        "                    \"name\": name.replace(\"[\", \"\").strip(),\n",
        "                    \"appearance\": appearance.strip()\n",
        "                })\n",
        "\n",
        "        # 모든 캐릭터 포함한 JSON 반환\n",
        "        data = {\n",
        "            \"background\": background,\n",
        "            \"characters\": characters\n",
        "        }\n",
        "        return data\n",
        "\n",
        "    except Exception as e:\n",
        "        return {\"error\": f\"Failed to parse result: {e}\"}\n",
        "\n",
        "# JSON 변환 호출\n",
        "if temp:\n",
        "    parsed_data = parse_result_to_json(temp)\n",
        "    print(json.dumps(parsed_data, ensure_ascii=False, indent=4))\n",
        "else:\n",
        "    print(\"결과가 없습니다.\")\n"
      ],
      "metadata": {
        "colab": {
          "base_uri": "https://localhost:8080/"
        },
        "id": "Tk9bBSo8n-vl",
        "outputId": "8704d910-04ed-4e61-fd74-df25a404404e"
      },
      "execution_count": 5,
      "outputs": [
        {
          "output_type": "stream",
          "name": "stdout",
          "text": [
            "{\n",
            "    \"background\": \"1940년대~1960년대 미국, 메인 주의 쇼생크 주립교도소\",\n",
            "    \"characters\": [\n",
            "        {\n",
            "            \"name\": \"앤디 듀프레인\",\n",
            "            \"appearance\": \"남성, 조밀하며 잘 정돈된 헤어스타일, 성인, 보통 체격, 깨끗하고 관리된 외모\"\n",
            "        },\n",
            "        {\n",
            "            \"name\": \"레드\",\n",
            "            \"appearance\": \"남성,성인, 보통 체격\"\n",
            "        },\n",
            "        {\n",
            "            \"name\": \"보그 다이아몬드\",\n",
            "            \"appearance\": \"남성,성인\"\n",
            "        }\n",
            "    ]\n",
            "}\n"
          ]
        }
      ]
    },
    {
      "cell_type": "code",
      "source": [],
      "metadata": {
        "id": "NSD48XjWoGcy"
      },
      "execution_count": null,
      "outputs": []
    }
  ]
}