{
 "cells": [
  {
   "cell_type": "code",
   "execution_count": 142,
   "id": "1d636b2c-71c7-4b8a-9b61-c39f92ca01f7",
   "metadata": {},
   "outputs": [],
   "source": [
    "from selenium import webdriver\n",
    "from selenium.webdriver.common.keys import Keys\n",
    "from selenium.webdriver.common.by import By\n",
    "from selenium.webdriver.chrome.service import Service\n",
    "from webdriver_manager.chrome import ChromeDriverManager\n",
    "from selenium.webdriver.support.ui import WebDriverWait\n",
    "from selenium.webdriver.support import expected_conditions as EC\n",
    "import time\n",
    "import re"
   ]
  },
  {
   "cell_type": "code",
   "execution_count": 144,
   "id": "5904da92-97c8-49d2-9f04-cac2a273125d",
   "metadata": {},
   "outputs": [
    {
     "name": "stdout",
     "output_type": "stream",
     "text": [
      "ChromeDriver 실행 성공!\n"
     ]
    }
   ],
   "source": [
    "# ChromeDriver 자동 설치 및 실행\n",
    "options = webdriver.ChromeOptions()\n",
    "options.add_argument(\"--headless\")  # 백그라운드 실행\n",
    "options.add_argument(\"--no-sandbox\")\n",
    "options.add_argument(\"--disable-dev-shm-usage\")\n",
    "service = Service(ChromeDriverManager().install())\n",
    "driver = webdriver.Chrome(service=service)\n",
    "\n",
    "# Project Gutenberg 웹사이트 열기\n",
    "driver.get(\"https://www.gutenberg.org/\")\n",
    "print(\"ChromeDriver 실행 성공!\")\n",
    "\n",
    "# 웹 요소가 상호 작용 가능한 상태가 될 때까지 최대 20초 동안 기다림\n",
    "wait = WebDriverWait(driver, 20)"
   ]
  },
  {
   "cell_type": "code",
   "execution_count": 146,
   "id": "5630e748-7d2f-4d7d-ab3a-d1a48bc31f2f",
   "metadata": {},
   "outputs": [
    {
     "name": "stdin",
     "output_type": "stream",
     "text": [
      "검색할 단어를 입력하세요:  fiction\n"
     ]
    },
    {
     "name": "stdout",
     "output_type": "stream",
     "text": [
      "검색 완료: 'fiction'\n"
     ]
    }
   ],
   "source": [
    "# 검색창 찾기 (id=\"menu-book-search\")\n",
    "search_box = wait.until(EC.element_to_be_clickable((By.ID, \"menu-book-search\")))\n",
    "\n",
    "# 사용자가 검색어 입력\n",
    "search_term = input(\"검색할 단어를 입력하세요: \")\n",
    "\n",
    "# 사용자가 입력한 검색어를 입력 후 검색 실행\n",
    "search_box.send_keys(search_term)\n",
    "search_box.send_keys(Keys.RETURN)\n",
    "print(f\"검색 완료: '{search_term}'\")\n",
    "\n",
    "# 검색 결과 페이지가 로드될 시간을 기다림\n",
    "time.sleep(5)"
   ]
  },
  {
   "cell_type": "code",
   "execution_count": 116,
   "id": "8293e4c6-2c8c-4f72-81e8-b814689ecc91",
   "metadata": {},
   "outputs": [],
   "source": [
    "# \"Bookshelves\" 버튼 찾기 및 클릭\n",
    "bookshelves_link = wait.until(EC.element_to_be_clickable((By.XPATH, \"//span[text()='Bookshelves']\")))\n",
    "bookshelves_link.click()"
   ]
  },
  {
   "cell_type": "code",
   "execution_count": 117,
   "id": "722a528f-a618-48ec-95fb-a0ebc84edf24",
   "metadata": {},
   "outputs": [],
   "source": [
    "# \"Browsing: Fiction\" 링크 찾기 및 클릭\n",
    "browsing_fiction_link = wait.until(EC.element_to_be_clickable((By.XPATH, \"//span[@class='title' and text()='Browsing: Fiction']\")))\n",
    "browsing_fiction_link.click()\n",
    "\n",
    "# 페이지가 로드될 시간을 기다림\n",
    "time.sleep(5)"
   ]
  },
  {
   "cell_type": "code",
   "execution_count": 134,
   "id": "9cb48f25-072d-4255-8f67-3ce65ba1f04c",
   "metadata": {},
   "outputs": [],
   "source": [
    "# 파일명에서 사용할 수 없는 문자 제거\n",
    "def sanitize_filename(title):\n",
    "    return re.sub(r'[\\\\/*?:\"<>|\\n]', '_', title).strip()"
   ]
  },
  {
   "cell_type": "code",
   "execution_count": 136,
   "id": "fa25b054-c6ab-4862-a1a7-7fbcf40b094b",
   "metadata": {},
   "outputs": [],
   "source": [
    "# 책 제목 리스트를 다시 가져오는 함수 (stale element reference 방지)\n",
    "def reload_title_links():\n",
    "    time.sleep(2)  # 페이지 로드 대기\n",
    "    return [link for link in wait.until(EC.presence_of_all_elements_located((By.XPATH, \"//*[@id='content']/div[2]/div/ul/li/a\")))\n",
    "            if 'Sort' not in link.text]"
   ]
  },
  {
   "cell_type": "code",
   "execution_count": null,
   "id": "33044ddb-a3f0-4afd-8fee-faf3c92faba9",
   "metadata": {},
   "outputs": [],
   "source": [
    "try:\n",
    "    # 책 제목 리스트 가져오기 (필터링하여 불필요한 링크 제외)\n",
    "    title_links = reload_title_links()\n",
    "\n",
    "    for index, link in enumerate(title_links):\n",
    "        try:\n",
    "            book_title = sanitize_filename(link.text)  # 파일명 정리\n",
    "            print(f\"{index+1}. {book_title} - 이동 중...\")\n",
    "            link.click()\n",
    "            time.sleep(3)  # 페이지 로드 대기\n",
    "\n",
    "            # 현재 페이지 URL 출력\n",
    "            print(f\"현재 페이지 URL: {driver.current_url}\")\n",
    "\n",
    "            # 'Read online (web)' 링크 클릭\n",
    "            read_online_link = wait.until(EC.element_to_be_clickable((By.LINK_TEXT, \"Read online (web)\")))\n",
    "            read_online_link.click()\n",
    "            time.sleep(3)  # 페이지 로드 대기\n",
    "\n",
    "            # 본문 내용 크롤링\n",
    "            book_content_elements = wait.until(EC.presence_of_all_elements_located((By.XPATH, \"//body//p\")))\n",
    "            book_text = \"\\n\".join([para.text for para in book_content_elements])\n",
    "\n",
    "            # 파일 저장\n",
    "            file_path = f\"{book_title}.txt\"\n",
    "            with open(file_path, \"w\", encoding=\"utf-8\") as file:\n",
    "                file.write(book_text)\n",
    "\n",
    "            print(f\"책 내용 저장 완료: {book_title}.txt 생성\")\n",
    "\n",
    "            # 📌 뒤로 가기 및 새로고침 (stale element reference 방지)\n",
    "            driver.back()\n",
    "            time.sleep(3)\n",
    "            # title_links = reload_title_links()  # ✅ 리스트 새로 가져오기\n",
    "            print('책 상세 내용으로 나가기')\n",
    "            \n",
    "            driver.back()\n",
    "            time.sleep(3)\n",
    "            # title_links = reload_title_links()  # ✅ 다시 리스트 새로 가져오기\n",
    "            print('책 목록으로 나가기')\n",
    "        \n",
    "        except Exception as e:\n",
    "            print(f\"오류 발생 (책 제목: {book_title}): {e}\")\n",
    "            continue\n",
    "except Exception as e:\n",
    "    print(\".\")"
   ]
  },
  {
   "cell_type": "code",
   "execution_count": null,
   "id": "86a70fb3-47ec-4f1a-81bf-008adea47f38",
   "metadata": {},
   "outputs": [],
   "source": []
  }
 ],
 "metadata": {
  "kernelspec": {
   "display_name": "Python 3 (ipykernel)",
   "language": "python",
   "name": "python3"
  },
  "language_info": {
   "codemirror_mode": {
    "name": "ipython",
    "version": 3
   },
   "file_extension": ".py",
   "mimetype": "text/x-python",
   "name": "python",
   "nbconvert_exporter": "python",
   "pygments_lexer": "ipython3",
   "version": "3.12.3"
  }
 },
 "nbformat": 4,
 "nbformat_minor": 5
}
